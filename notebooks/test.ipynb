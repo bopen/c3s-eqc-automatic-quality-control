{
 "cells": [
  {
   "cell_type": "code",
   "execution_count": null,
   "metadata": {},
   "outputs": [],
   "source": [
    "import cads_toolbox\n",
    "\n",
    "from c3s_eqc_automatic_quality_control import download\n",
    "\n",
    "cads_toolbox.config.USE_CACHE = True"
   ]
  },
  {
   "cell_type": "code",
   "execution_count": null,
   "metadata": {},
   "outputs": [],
   "source": [
    "collection_id = \"insitu-gridded-observations-global-and-regional\"\n",
    "request = {\n",
    "    \"format\": \"zip\",\n",
    "    \"origin\": \"berkearth\",\n",
    "    \"region\": \"global\",\n",
    "    \"variable\": \"temperature_anomaly\",\n",
    "    \"statistic\": \"mean\",\n",
    "    \"time_aggregation\": \"monthly\",\n",
    "    \"year\": list(range(2015, 2018)),\n",
    "    \"version\": \"v1.0\",\n",
    "    \"horizontal_aggregation\": \"1_x_1\",\n",
    "}"
   ]
  },
  {
   "cell_type": "code",
   "execution_count": null,
   "metadata": {},
   "outputs": [],
   "source": [
    "ds = download.download_and_transform(\n",
    "    collection_id,\n",
    "    request,\n",
    "    chunks=1,\n",
    "    open_with=\"xarray\",\n",
    ")"
   ]
  },
  {
   "cell_type": "code",
   "execution_count": null,
   "metadata": {},
   "outputs": [],
   "source": []
  }
 ],
 "metadata": {
  "kernelspec": {
   "display_name": "eqc",
   "language": "python",
   "name": "python3"
  },
  "language_info": {
   "codemirror_mode": {
    "name": "ipython",
    "version": 3
   },
   "file_extension": ".py",
   "mimetype": "text/x-python",
   "name": "python",
   "nbconvert_exporter": "python",
   "pygments_lexer": "ipython3",
   "version": "3.10.8"
  },
  "vscode": {
   "interpreter": {
    "hash": "729d4203989e46368114bc0e0241f9687d8ba807583b0ce0814f678ddcc4eabd"
   }
  }
 },
 "nbformat": 4,
 "nbformat_minor": 2
}
