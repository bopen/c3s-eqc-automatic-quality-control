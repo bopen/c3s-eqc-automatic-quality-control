{
 "cells": [
  {
   "cell_type": "code",
   "execution_count": null,
   "metadata": {},
   "outputs": [],
   "source": [
    "import cads_toolbox\n",
    "\n",
    "from c3s_eqc_automatic_quality_control import diagnostics, download, plot\n",
    "\n",
    "cads_toolbox.config.USE_CACHE = True"
   ]
  },
  {
   "cell_type": "code",
   "execution_count": null,
   "metadata": {},
   "outputs": [],
   "source": [
    "first_year = 2000\n",
    "last_year = 2010\n",
    "collection_id = \"insitu-gridded-observations-global-and-regional\"\n",
    "request = {\n",
    "    \"format\": \"zip\",  # Added support for single-file zip archives\n",
    "    \"variable\": \"temperature\",\n",
    "    \"statistic\": [\n",
    "        \"maximum\",\n",
    "        \"mean\",\n",
    "        \"minimum\",\n",
    "    ],\n",
    "    \"horizontal_aggregation\": \"2_5_x_2_5\",\n",
    "    \"year\": list(range(first_year, last_year + 1)),\n",
    "    \"version\": \"v4.03\",\n",
    "    \"origin\": \"cru\",\n",
    "    \"region\": \"global\",\n",
    "    \"time_aggregation\": \"monthly\",\n",
    "}"
   ]
  },
  {
   "cell_type": "code",
   "execution_count": null,
   "metadata": {},
   "outputs": [],
   "source": [
    "ds_mean = download.download_and_transform(\n",
    "    collection_id,\n",
    "    request,\n",
    "    chunks=1,  # Added option to chunk all parameters\n",
    "    open_with=\"xarray\",\n",
    "    f=diagnostics.spatial_weighted_mean,\n",
    ")"
   ]
  },
  {
   "cell_type": "code",
   "execution_count": null,
   "metadata": {},
   "outputs": [],
   "source": [
    "ds_std = download.download_and_transform(\n",
    "    collection_id,\n",
    "    request,\n",
    "    chunks=1,\n",
    "    open_with=\"xarray\",\n",
    "    f=diagnostics.spatial_weighted_std,  # Added another example of diagnostics\n",
    ")"
   ]
  },
  {
   "cell_type": "code",
   "execution_count": null,
   "metadata": {},
   "outputs": [],
   "source": [
    "fig = plot.shadowed_std(\n",
    "    ds_mean, ds_std, [\"tasmin\", \"tasmax\", \"tas\"], \"Spatially-weighted fields\"\n",
    ")\n",
    "fig.show()\n",
    "fig.write_image(\"ERA5_daily_mean_temperature_on_rome_2021-2022.png\")"
   ]
  },
  {
   "cell_type": "code",
   "execution_count": null,
   "metadata": {},
   "outputs": [],
   "source": []
  }
 ],
 "metadata": {
  "kernelspec": {
   "display_name": "eqc",
   "language": "python",
   "name": "python3"
  },
  "language_info": {
   "codemirror_mode": {
    "name": "ipython",
    "version": 3
   },
   "file_extension": ".py",
   "mimetype": "text/x-python",
   "name": "python",
   "nbconvert_exporter": "python",
   "pygments_lexer": "ipython3",
   "version": "3.10.8"
  },
  "vscode": {
   "interpreter": {
    "hash": "729d4203989e46368114bc0e0241f9687d8ba807583b0ce0814f678ddcc4eabd"
   }
  }
 },
 "nbformat": 4,
 "nbformat_minor": 2
}
